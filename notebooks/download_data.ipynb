{
 "cells": [
  {
   "cell_type": "code",
   "execution_count": null,
   "id": "initial_id",
   "metadata": {
    "collapsed": true
   },
   "outputs": [],
   "source": [
    "# notebooks/download_data.py\n",
    "import lightkurve as lk\n",
    "import matplotlib.pyplot as plt\n",
    "import os\n",
    "\n",
    "# ✅ Esto asume que estás ejecutando desde notebooks/\n",
    "project_root = os.path.abspath(os.path.join(os.getcwd(), \"..\"))\n",
    "save_path = os.path.join(project_root, \"data\", \"raw\")\n",
    "os.makedirs(save_path, exist_ok=True)\n",
    "\n",
    "\n",
    "# ⭐ Lista de prueba\n",
    "target_stars = [\n",
    "    \"KIC 8462852\", \"KIC 12557548\", \"KIC 3544595\", \"KIC 8197761\",\n",
    "    \"Kepler-10\", \"Kepler-22\", \"Kepler-62\", \"Kepler-90\"\n",
    "]\n",
    "\n",
    "# 🔄 Descargar\n",
    "for target_star in target_stars:\n",
    "    print(f\"🔍 Descargando datos para {target_star}...\")\n",
    "\n",
    "    try:\n",
    "        lc_collection = lk.search_lightcurve(target_star, mission=\"Kepler\").download_all()\n",
    "\n",
    "        if lc_collection is not None:\n",
    "            lc = lc_collection.stitch()\n",
    "\n",
    "            # Plot\n",
    "            plt.figure(figsize=(10, 5))\n",
    "            lc.plot()\n",
    "            plt.title(f\"Curva de luz de {target_star}\")\n",
    "            plt.xlabel(\"Tiempo (días)\")\n",
    "            plt.ylabel(\"Brillo normalizado\")\n",
    "            plt.show()\n",
    "\n",
    "            # Guardar CSV\n",
    "            file_name = os.path.join(save_path, f\"curva_luz_{target_star.replace(' ', '_')}.csv\")\n",
    "            lc.to_pandas().to_csv(file_name, index=False)\n",
    "            print(f\"✅ Guardado en: {file_name}\")\n",
    "\n",
    "        else:\n",
    "            print(f\"❌ No se encontraron datos para {target_star}.\")\n",
    "\n",
    "    except Exception as e:\n",
    "        print(f\"⚠️ Error al procesar {target_star}: {e}\")\n"
   ]
  }
 ],
 "metadata": {
  "kernelspec": {
   "display_name": "Python 3",
   "language": "python",
   "name": "python3"
  },
  "language_info": {
   "codemirror_mode": {
    "name": "ipython",
    "version": 2
   },
   "file_extension": ".py",
   "mimetype": "text/x-python",
   "name": "python",
   "nbconvert_exporter": "python",
   "pygments_lexer": "ipython2",
   "version": "2.7.6"
  }
 },
 "nbformat": 4,
 "nbformat_minor": 5
}
